{
 "cells": [
  {
   "cell_type": "code",
   "execution_count": null,
   "metadata": {},
   "outputs": [],
   "source": [
    "import os\n",
    "import pandas as pd\n",
    "import re"
   ]
  },
  {
   "cell_type": "code",
   "execution_count": null,
   "metadata": {},
   "outputs": [],
   "source": [
    "output_dir = './slurm_output'"
   ]
  },
  {
   "cell_type": "code",
   "execution_count": null,
   "metadata": {},
   "outputs": [],
   "source": [
    "file_path = os.path.join(output_dir, 'f5resnet18_middle.out')\n",
    "\n",
    "with open(file_path, 'r') as file:\n",
    "    lines = file.readlines()\n",
    "    last_lines = lines[-3:]\n",
    "\n",
    "for line in last_lines:\n",
    "    print(line.strip())"
   ]
  },
  {
   "cell_type": "code",
   "execution_count": null,
   "metadata": {},
   "outputs": [],
   "source": [
    "model_names = ['alexnet', 'googlenet', 'resnet18', \n",
    "               'densenet121', 'efficientnet_b0', 'convnext_tiny', \n",
    "               'efficientnet_v2_s', 'mobilenet_v3_small', 'vgg11']\n",
    "# fold_nums = ['5', '10', '20']\n",
    "fold_nums = ['10']\n",
    "proximals = ['middle', 'first']\n",
    "\n",
    "proximal = 'middle'"
   ]
  },
  {
   "cell_type": "code",
   "execution_count": null,
   "metadata": {},
   "outputs": [],
   "source": [
    "res = {model_name: [] for model_name in model_names}\n",
    "\n",
    "for fold_num in fold_nums:\n",
    "    for model_name in model_names:\n",
    "        file_name = f'f{fold_num}{model_name}_{proximal}.out'\n",
    "        # print(file_name)\n",
    "        file_path = os.path.join(output_dir, file_name)\n",
    "\n",
    "        with open(file_path, 'r') as file:\n",
    "            lines = file.readlines()\n",
    "            last_lines = lines[-2:]\n",
    "\n",
    "        try: \n",
    "            numbers = [round(float(re.search(r'\\d+\\.\\d+', line).group()) * 100, 2) for line in last_lines]\n",
    "            formatted_results = f'{numbers[0]}±{numbers[1]}'\n",
    "        except:\n",
    "            formatted_results = ''\n",
    "\n",
    "        res[model_name].append(formatted_results)\n",
    "\n",
    "file_path = os.path.join(output_dir, f'vote_{proximal}.out')\n",
    "with open(file_path, 'r') as file:\n",
    "    lines = file.readlines()\n",
    "    last_lines = lines[-1]\n",
    "data_list = eval(last_lines)\n",
    "\n",
    "tmp = []\n",
    "# for i in [1, 4, 7]:\n",
    "for i in [1]:\n",
    "    formatted_results = f'{round(data_list[i]*100, 2)}±{round(data_list[i+1]*100, 2)}'\n",
    "    tmp.append(formatted_results)\n",
    "res['vote'] = tmp\n",
    "\n",
    "df = pd.DataFrame(res)\n",
    "df.columns = ['alexnet (61.1M)', 'googlenet (6.6M)', 'resnet18 (11.7M)', 'densenet121 (8.0M)', \n",
    "              'efficientnet_b0 (5.3M)', 'convnext_tiny (28.6M)', 'efficientnet_v2_s (21.5M)', 'mobilenet_v3_small (2.5M)', 'vgg11(132.9M)', 'vote']\n",
    "# df.index = ['5-Fold', '10-Fold', '20-Fold']\n",
    "df.index = ['10-Fold']"
   ]
  },
  {
   "cell_type": "code",
   "execution_count": null,
   "metadata": {},
   "outputs": [],
   "source": [
    "df"
   ]
  },
  {
   "cell_type": "code",
   "execution_count": null,
   "metadata": {},
   "outputs": [],
   "source": [
    "proximal = 'first'\n",
    "\n",
    "res = {model_name: [] for model_name in model_names}\n",
    "\n",
    "for fold_num in fold_nums:\n",
    "    for model_name in model_names:\n",
    "        file_name = f'f{fold_num}{model_name}_{proximal}.out'\n",
    "        # print(file_name)\n",
    "        file_path = os.path.join(output_dir, file_name)\n",
    "\n",
    "        with open(file_path, 'r') as file:\n",
    "            lines = file.readlines()\n",
    "            last_lines = lines[-2:]\n",
    "\n",
    "        try: \n",
    "            numbers = [round(float(re.search(r'\\d+\\.\\d+', line).group()) * 100, 2) for line in last_lines]\n",
    "            formatted_results = f'{numbers[0]}±{numbers[1]}'\n",
    "        except:\n",
    "            formatted_results = ''\n",
    "\n",
    "        res[model_name].append(formatted_results)\n",
    "\n",
    "file_path = os.path.join(output_dir, f'vote_{proximal}.out')\n",
    "with open(file_path, 'r') as file:\n",
    "    lines = file.readlines()\n",
    "    last_lines = lines[-1]\n",
    "data_list = eval(last_lines)\n",
    "\n",
    "tmp = []\n",
    "# for i in [1, 4, 7]:\n",
    "for i in [1]:\n",
    "    formatted_results = f'{round(data_list[i]*100, 2)}±{round(data_list[i+1]*100, 2)}'\n",
    "    tmp.append(formatted_results)\n",
    "res['vote'] = tmp\n",
    "\n",
    "df = pd.DataFrame(res)\n",
    "df.columns = ['alexnet (61.1M)', 'googlenet (6.6M)', 'resnet18 (11.7M)', 'densenet121 (8.0M)', \n",
    "              'efficientnet_b0 (5.3M)', 'convnext_tiny (28.6M)', 'efficientnet_v2_s (21.5M)', 'mobilenet_v3_small (2.5M)', 'vgg11(132.9M)', 'vote']\n",
    "# df.index = ['5-Fold', '10-Fold', '20-Fold']\n",
    "df.index = ['10-Fold']"
   ]
  },
  {
   "cell_type": "code",
   "execution_count": null,
   "metadata": {},
   "outputs": [],
   "source": [
    "df"
   ]
  },
  {
   "cell_type": "code",
   "execution_count": null,
   "metadata": {},
   "outputs": [],
   "source": []
  }
 ],
 "metadata": {
  "kernelspec": {
   "display_name": "Python 3",
   "language": "python",
   "name": "python3"
  },
  "language_info": {
   "codemirror_mode": {
    "name": "ipython",
    "version": 3
   },
   "file_extension": ".py",
   "mimetype": "text/x-python",
   "name": "python",
   "nbconvert_exporter": "python",
   "pygments_lexer": "ipython3",
   "version": "3.9.19"
  }
 },
 "nbformat": 4,
 "nbformat_minor": 2
}
